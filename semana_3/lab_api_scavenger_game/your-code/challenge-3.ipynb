{
 "cells": [
  {
   "cell_type": "markdown",
   "id": "defensive-clock",
   "metadata": {},
   "source": [
    "# Challenge 3: Hidden Cold Joke\n",
    "\n",
    "Using Python, call Github API to find out the cold joke contained in the 24 secret files in the following repo:\n",
    "\n",
    "https://github.com/ironhack-datalabs/scavenger\n",
    "\n",
    "The filenames of the secret files contain .scavengerhunt and they are scattered in different directories of this repo. The secret files are named from .0001.scavengerhunt to .0024.scavengerhunt. They are scattered randomly throughout this repo. You need to search for these files by calling the Github API, not searching the local files on your computer.\n",
    "\n",
    "\n",
    "After you find out the secrete files:\n",
    "\n",
    "Sort the filenames ascendingly.\n",
    "\n",
    "Read the content of each secret files into an array of strings.\n",
    "\n",
    "Concatenate the strings in the array separating each two with a whitespace.\n",
    "\n",
    "Print out the joke."
   ]
  },
  {
   "cell_type": "code",
   "execution_count": 4,
   "id": "92cb045b",
   "metadata": {},
   "outputs": [],
   "source": [
    "import json\n",
    "import requests as req"
   ]
  },
  {
   "cell_type": "code",
   "execution_count": 6,
   "id": "6435fabb",
   "metadata": {},
   "outputs": [],
   "source": [
    "archivo = open('../token.txt', 'r')\n",
    "username = 'rodrigogalan'\n",
    "token = archivo.read()\n",
    "auth=(username,token)"
   ]
  },
  {
   "cell_type": "markdown",
   "id": "universal-length",
   "metadata": {},
   "source": [
    "⚠️ **Remember to limit your output before submission**."
   ]
  },
  {
   "cell_type": "code",
   "execution_count": 9,
   "id": "toxic-trading",
   "metadata": {},
   "outputs": [
    {
     "data": {
      "text/plain": [
       "'https://api.github.com/repos/ironhack-datalabs/scavenger/contents/'"
      ]
     },
     "execution_count": 9,
     "metadata": {},
     "output_type": "execute_result"
    }
   ],
   "source": [
    "scavenger =\"https://api.github.com/repos/ironhack-datalabs/scavenger\"\n",
    "folders=req.get(scavenger,auth=(username,token)).json()[\"contents_url\"].replace(\"{+path}\",\"\")"
   ]
  },
  {
   "cell_type": "code",
   "execution_count": 46,
   "id": "f337a576",
   "metadata": {},
   "outputs": [],
   "source": [
    "numero_carpetas=len(req.get(folders,auth=(username,token)).json())"
   ]
  },
  {
   "cell_type": "code",
   "execution_count": 118,
   "id": "3ac9bd19",
   "metadata": {},
   "outputs": [],
   "source": [
    "nombres_secretos=[]\n",
    "for i in range(1,numero_carpetas):\n",
    "    nombre_carpeta = req.get(folders,auth=(username,token)).json()[i][\"name\"]\n",
    "    elementos_carpeta=len(req.get(folders+\"/\"+nombre_carpeta,auth=(username,token)).json())\n",
    "    for j in range(elementos_carpeta):\n",
    "        ruta=req.get(folders+\"/\"+nombre_carpeta,auth=(username,token)).json()[j][\"path\"]\n",
    "        if \"scavengerhunt\" in ruta:\n",
    "            nombres_secretos.append(ruta)"
   ]
  },
  {
   "cell_type": "code",
   "execution_count": 119,
   "id": "5366ed54",
   "metadata": {},
   "outputs": [],
   "source": [
    "nombres_secretos=sorted(nombres_secretos,key=lambda x:x[9:11]);"
   ]
  },
  {
   "cell_type": "code",
   "execution_count": 120,
   "id": "cc89754d",
   "metadata": {},
   "outputs": [
    {
     "data": {
      "text/plain": [
       "'In data science, 80 percent of time spent is preparing data, 20 percent of time is spent complaining about the need to prepare data. '"
      ]
     },
     "execution_count": 120,
     "metadata": {},
     "output_type": "execute_result"
    }
   ],
   "source": [
    "frase_secreta=\"\"\n",
    "for i in nombres_secretos:\n",
    "   url_final=req.get(folders+\"/\"+i,auth=(username,token)).json()[\"download_url\"]\n",
    "   frase_secreta+=req.get(url_final,auth=(username,token)).text.replace(\"\\n\",\" \")\n",
    "frase_secreta"
   ]
  },
  {
   "cell_type": "code",
   "execution_count": null,
   "id": "afad2809",
   "metadata": {},
   "outputs": [],
   "source": []
  }
 ],
 "metadata": {
  "kernelspec": {
   "display_name": "Python 3 (ipykernel)",
   "language": "python",
   "name": "python3"
  },
  "language_info": {
   "codemirror_mode": {
    "name": "ipython",
    "version": 3
   },
   "file_extension": ".py",
   "mimetype": "text/x-python",
   "name": "python",
   "nbconvert_exporter": "python",
   "pygments_lexer": "ipython3",
   "version": "3.8.10"
  },
  "toc": {
   "base_numbering": 1,
   "nav_menu": {},
   "number_sections": true,
   "sideBar": true,
   "skip_h1_title": true,
   "title_cell": "Table of Contents",
   "title_sidebar": "Contents",
   "toc_cell": false,
   "toc_position": {},
   "toc_section_display": true,
   "toc_window_display": true
  }
 },
 "nbformat": 4,
 "nbformat_minor": 5
}
