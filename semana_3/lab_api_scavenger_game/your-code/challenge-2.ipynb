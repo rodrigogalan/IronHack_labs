{
 "cells": [
  {
   "cell_type": "code",
   "execution_count": 3,
   "id": "0f16538a",
   "metadata": {},
   "outputs": [],
   "source": [
    "import json\n",
    "import requests as req"
   ]
  },
  {
   "cell_type": "markdown",
   "id": "threaded-asbestos",
   "metadata": {},
   "source": [
    "# Challenge 2: Count Commits\n",
    "\n",
    "Count how many commits were made in the past week.\n",
    "\n",
    "Obtain all the commits made in the past week via API, which is a JSON array that contains multiple commit objects.\n",
    "\n",
    "Count how many commit objects are contained in the array."
   ]
  },
  {
   "cell_type": "markdown",
   "id": "norwegian-praise",
   "metadata": {},
   "source": [
    "⚠️ **Remember to limit your output before submission**."
   ]
  },
  {
   "cell_type": "code",
   "execution_count": 4,
   "id": "25e53977",
   "metadata": {},
   "outputs": [],
   "source": [
    "archivo = open('../token.txt', 'r')\n",
    "username = 'rodrigogalan'\n",
    "token = archivo.read()\n",
    "auth=(username,token)"
   ]
  },
  {
   "cell_type": "markdown",
   "id": "39021157",
   "metadata": {},
   "source": [
    "Se elige la URL base el usuario y dentro del usuario los repos"
   ]
  },
  {
   "cell_type": "code",
   "execution_count": 23,
   "id": "da140750",
   "metadata": {},
   "outputs": [],
   "source": [
    "URL='https://api.github.com/'\n",
    "usuario='users/Ironhack-Data-Madrid-Enero-2022'\n",
    "repos='/repos'"
   ]
  },
  {
   "cell_type": "markdown",
   "id": "4fe41a8f",
   "metadata": {},
   "source": [
    "Se lee la key donde aparece el link de los commits"
   ]
  },
  {
   "cell_type": "code",
   "execution_count": 41,
   "id": "37f9f684",
   "metadata": {
    "scrolled": false
   },
   "outputs": [
    {
     "data": {
      "text/plain": [
       "'https://api.github.com/repos/Ironhack-Data-Madrid-Enero-2022/apuntes_clase/commits'"
      ]
     },
     "execution_count": 41,
     "metadata": {},
     "output_type": "execute_result"
    }
   ],
   "source": [
    "res_git=req.get(URL+usuario+repos,auth=(username,token))\n",
    "url_commit=res_git.json()[0][\"commits_url\"].replace(\"{/sha}\",\"\")\n",
    "url_commit\n",
    "#https://api.github.com/repos/Ironhack-Data-Madrid-Enero-2022/apuntes_clase/commits"
   ]
  },
  {
   "cell_type": "markdown",
   "id": "a91118ba",
   "metadata": {},
   "source": [
    "Del json de los commits, se han elegido aquellos en los cuales los dias pertenecen a la semana pasada"
   ]
  },
  {
   "cell_type": "code",
   "execution_count": 119,
   "id": "3b8456de",
   "metadata": {
    "scrolled": false
   },
   "outputs": [
    {
     "data": {
      "text/plain": [
       "18"
      ]
     },
     "execution_count": 119,
     "metadata": {},
     "output_type": "execute_result"
    }
   ],
   "source": [
    "counter=0\n",
    "for i in range(numero_commits):\n",
    "    dias=int(req.get(url_commit,auth=(username,token)).json()[i][\"commit\"][\"author\"][\"date\"][8:10])\n",
    "    if dias<24 and dias>16 :\n",
    "        counter +=1\n",
    "counter"
   ]
  },
  {
   "cell_type": "code",
   "execution_count": null,
   "id": "e89d1a95",
   "metadata": {},
   "outputs": [],
   "source": []
  }
 ],
 "metadata": {
  "kernelspec": {
   "display_name": "Python 3 (ipykernel)",
   "language": "python",
   "name": "python3"
  },
  "language_info": {
   "codemirror_mode": {
    "name": "ipython",
    "version": 3
   },
   "file_extension": ".py",
   "mimetype": "text/x-python",
   "name": "python",
   "nbconvert_exporter": "python",
   "pygments_lexer": "ipython3",
   "version": "3.8.10"
  },
  "toc": {
   "base_numbering": 1,
   "nav_menu": {},
   "number_sections": true,
   "sideBar": true,
   "skip_h1_title": true,
   "title_cell": "Table of Contents",
   "title_sidebar": "Contents",
   "toc_cell": false,
   "toc_position": {
    "height": "calc(100% - 180px)",
    "left": "10px",
    "top": "150px",
    "width": "288px"
   },
   "toc_section_display": true,
   "toc_window_display": true
  }
 },
 "nbformat": 4,
 "nbformat_minor": 5
}
