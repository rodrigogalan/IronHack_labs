{
 "cells": [
  {
   "cell_type": "code",
   "execution_count": 19,
   "metadata": {},
   "outputs": [],
   "source": [
    "import json\n",
    "import requests as req"
   ]
  },
  {
   "cell_type": "markdown",
   "metadata": {},
   "source": [
    "Only if you're using your environmental variable eith the `.env` file, import/install the following modules. Otherwise it is not necessary:\n",
    "\n",
    "https://pypi.org/project/python-dotenv/"
   ]
  },
  {
   "cell_type": "code",
   "execution_count": 13,
   "metadata": {},
   "outputs": [
    {
     "name": "stdout",
     "output_type": "stream",
     "text": [
      "Requirement already satisfied: python-dotenv in /home/rodrigo/.local/lib/python3.8/site-packages (0.19.2)\r\n"
     ]
    }
   ],
   "source": [
    "!pip install python-dotenv"
   ]
  },
  {
   "cell_type": "code",
   "execution_count": 14,
   "metadata": {
    "scrolled": true
   },
   "outputs": [],
   "source": [
    "import os\n",
    "from dotenv import load_dotenv"
   ]
  },
  {
   "cell_type": "code",
   "execution_count": 15,
   "metadata": {},
   "outputs": [
    {
     "data": {
      "text/plain": [
       "True"
      ]
     },
     "execution_count": 15,
     "metadata": {},
     "output_type": "execute_result"
    }
   ],
   "source": [
    "load_dotenv()"
   ]
  },
  {
   "cell_type": "code",
   "execution_count": 16,
   "metadata": {},
   "outputs": [],
   "source": [
    "github = os.getenv(\"token\")"
   ]
  },
  {
   "cell_type": "markdown",
   "metadata": {},
   "source": [
    "# Challenge 1: Fork Languages\n",
    "\n",
    "You will find out how many programming languages are used among all the forks created from the main lab repo of your bootcamp. Assuming the main lab repo is ironhack-datalabs/datamad1020-rev, you will:\n",
    "\n",
    "1. Obtain the full list of forks created from the main lab repo via Github API.\n",
    "\n",
    "2. Loop the JSON response to find out the language attribute of each fork. Use an array to store the language attributes of each fork.\n",
    "\n",
    "Hint: Each language should appear only once in your array.\n",
    "\n",
    "3. Print the language array. It should be something like:\n",
    "\n",
    "[\"Python\", \"Jupyter Notebook\", \"HTML\"]\n"
   ]
  },
  {
   "cell_type": "markdown",
   "metadata": {},
   "source": [
    "**HINT:**: Create a list with every **language_url** you find in every fork "
   ]
  },
  {
   "cell_type": "markdown",
   "metadata": {},
   "source": [
    "⚠️ **Remember to limit your output before submission**."
   ]
  },
  {
   "cell_type": "markdown",
   "metadata": {},
   "source": [
    "Se guarda el nombre de usuario y contraseña para autenticarse y permitir más lecturas"
   ]
  },
  {
   "cell_type": "code",
   "execution_count": 116,
   "metadata": {},
   "outputs": [],
   "source": [
    "archivo = open('../token.txt', 'r')\n",
    "username = 'rodrigogalan'\n",
    "token = archivo.read()\n",
    "auth=(username,token)"
   ]
  },
  {
   "cell_type": "markdown",
   "metadata": {},
   "source": [
    "Se elige la URL base, el usuario y dentro del usuario los repos"
   ]
  },
  {
   "cell_type": "code",
   "execution_count": 131,
   "metadata": {},
   "outputs": [],
   "source": [
    "URL='https://api.github.com/'\n",
    "usuario='users/Ironhack-Data-Madrid-Enero-2022'\n",
    "repos='/repos'"
   ]
  },
  {
   "cell_type": "code",
   "execution_count": 187,
   "metadata": {},
   "outputs": [
    {
     "data": {
      "text/plain": [
       "'apuntes_clase'"
      ]
     },
     "execution_count": 187,
     "metadata": {},
     "output_type": "execute_result"
    }
   ],
   "source": [
    "nombre_repo"
   ]
  },
  {
   "cell_type": "code",
   "execution_count": 144,
   "metadata": {},
   "outputs": [],
   "source": [
    "res_git=req.get(URL+usuario+repos,auth=(username,token))\n",
    "nombre_repo=res_git.json()[0][\"name\"] # Se guarda el nombre del repo \n",
    "numero_forks=res_git.json()[0][\"forks_count\"] # Se guarda el número de forks del repo\n",
    "url_fork=res_git.json()[0][\"forks_url\"] # Se guarda el link del repo"
   ]
  },
  {
   "cell_type": "code",
   "execution_count": 159,
   "metadata": {},
   "outputs": [],
   "source": [
    "#Se saca el nombre de todos los usuarios que han hecho fork del repo\n",
    "res_git=req.get(url_fork,auth=(username,token))\n",
    "lista_forks=[]\n",
    "for i in range(numero_forks):\n",
    "    lista_forks.append(res_git.json()[i][\"full_name\"].split(\"/\")[0])"
   ]
  },
  {
   "cell_type": "code",
   "execution_count": 186,
   "metadata": {},
   "outputs": [],
   "source": [
    "#Se saca el nombre de los lenguajes empleados por cada usuario\n",
    "req.get(url_lenguajes,auth=(username,token)).json()\n",
    "lista_lenguajes=[]\n",
    "for i in range(numero_forks):\n",
    "    lista_lenguajes.append(req.get(url_fork,auth=(username,token)).json()[i][\"language\"])"
   ]
  },
  {
   "cell_type": "code",
   "execution_count": 185,
   "metadata": {
    "scrolled": true
   },
   "outputs": [
    {
     "name": "stdout",
     "output_type": "stream",
     "text": [
      "El usuario Gitfracto ha empleado el lenguaje None\n",
      "El usuario AntonioLopga12 ha empleado el lenguaje None\n",
      "El usuario mariozapatero ha empleado el lenguaje Jupyter Notebook\n",
      "El usuario DiSanchz ha empleado el lenguaje None\n",
      "El usuario Marilyn499 ha empleado el lenguaje Jupyter Notebook\n",
      "El usuario jesuschao ha empleado el lenguaje Jupyter Notebook\n",
      "El usuario SergioMB12 ha empleado el lenguaje Jupyter Notebook\n",
      "El usuario sergiomessaoudi ha empleado el lenguaje Jupyter Notebook\n",
      "El usuario JuanaMG ha empleado el lenguaje None\n",
      "El usuario ce-valle ha empleado el lenguaje None\n",
      "El usuario Pomilusky ha empleado el lenguaje Jupyter Notebook\n",
      "El usuario rodrigogalan ha empleado el lenguaje Jupyter Notebook\n",
      "El usuario pablomora213 ha empleado el lenguaje Jupyter Notebook\n",
      "El usuario beihglez ha empleado el lenguaje None\n",
      "El usuario IsabelGarcia11 ha empleado el lenguaje None\n",
      "El usuario evaarquero ha empleado el lenguaje Jupyter Notebook\n",
      "El usuario VictorPablo12 ha empleado el lenguaje Jupyter Notebook\n"
     ]
    }
   ],
   "source": [
    "for i,j in zip(lista_forks,lista_lenguajes):\n",
    "    print(f\"El usuario {i} ha empleado el lenguaje {j}\")"
   ]
  }
 ],
 "metadata": {
  "kernelspec": {
   "display_name": "ironhack",
   "language": "python",
   "name": "ironhack"
  },
  "language_info": {
   "codemirror_mode": {
    "name": "ipython",
    "version": 3
   },
   "file_extension": ".py",
   "mimetype": "text/x-python",
   "name": "python",
   "nbconvert_exporter": "python",
   "pygments_lexer": "ipython3",
   "version": "3.8.5"
  },
  "toc": {
   "base_numbering": 1,
   "nav_menu": {},
   "number_sections": true,
   "sideBar": true,
   "skip_h1_title": true,
   "title_cell": "Table of Contents",
   "title_sidebar": "Contents",
   "toc_cell": false,
   "toc_position": {},
   "toc_section_display": true,
   "toc_window_display": false
  }
 },
 "nbformat": 4,
 "nbformat_minor": 2
}
